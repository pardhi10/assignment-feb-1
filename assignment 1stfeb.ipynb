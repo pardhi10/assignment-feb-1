{
 "cells": [
  {
   "cell_type": "code",
   "execution_count": 1,
   "id": "d9a16b7f-369a-4112-840c-6ffa27c12845",
   "metadata": {},
   "outputs": [
    {
     "data": {
      "text/plain": [
       "'while loop is use for checking condition and it will run till the condition get false but in for loop we use it till given elements are not done '"
      ]
     },
     "execution_count": 1,
     "metadata": {},
     "output_type": "execute_result"
    }
   ],
   "source": [
    "\"\"\"while loop is use for checking condition and it will run till the condition get false but in for loop we use it till given elements are not done \"\"\"\n"
   ]
  },
  {
   "cell_type": "code",
   "execution_count": 2,
   "id": "5cf3b9af-5bb7-4ae0-9ae9-563ee001bad8",
   "metadata": {},
   "outputs": [
    {
     "name": "stdout",
     "output_type": "stream",
     "text": [
      "55\n",
      "3628800\n"
     ]
    }
   ],
   "source": [
    "sum=0\n",
    "pro=1\n",
    "for i in range(1,11):\n",
    " sum=sum+i\n",
    " pro=pro*i\n",
    "print(sum)\n",
    "print(pro)\n",
    " "
   ]
  },
  {
   "cell_type": "code",
   "execution_count": 3,
   "id": "2ad722aa-d7f8-4354-aab3-9c9152d8685b",
   "metadata": {},
   "outputs": [
    {
     "name": "stdin",
     "output_type": "stream",
     "text": [
      "enter the consumed UNIT 310\n"
     ]
    },
    {
     "name": "stdout",
     "output_type": "stream",
     "text": [
      "perunit is 20 Rs and total bill is: 6200\n"
     ]
    }
   ],
   "source": [
    "#hOUSE UNIT\n",
    "unit=int(input(\"enter the consumed UNIT\"))\n",
    "if unit<=100:\n",
    "    print(\"perunit charge 4.5 Rs and total bill is:\",4.5*unit)\n",
    "elif unit<=200 and unit>=101 :\n",
    "    print(\"perunit is 6 Rs and total bill is:\",6*unit)\n",
    "elif(unit>=201 and unit<=300) : \n",
    "    print(\"perunit is 10 Rs and total bill is:\",10*unit)\n",
    "elif(unit>300):\n",
    "     print(\"perunit is 20 Rs and total bill is:\",20*unit)"
   ]
  },
  {
   "cell_type": "code",
   "execution_count": 11,
   "id": "4a4c2527-4ec8-4852-9176-fea740cd8970",
   "metadata": {},
   "outputs": [
    {
     "name": "stdout",
     "output_type": "stream",
     "text": [
      "[8, 64, 125, 216, 512, 1000, 1728, 2744, 3375, 4096, 5832, 8000, 10648, 13824, 15625, 17576, 21952, 27000, 32768, 39304, 42875, 46656, 54872, 64000, 74088, 85184, 91125, 97336, 110592, 125000, 140608, 157464, 166375, 175616, 195112, 216000, 238328, 262144, 274625, 287496, 314432, 343000, 373248, 405224, 421875, 438976, 474552, 512000, 551368, 592704, 614125, 636056, 681472, 729000, 778688, 830584, 857375, 884736, 941192]\n"
     ]
    }
   ],
   "source": [
    "#LIST OF 1 TO 100\n",
    "lisp=[]\n",
    "cube=[]\n",
    "pro=1;\n",
    "for i in range(1,100):\n",
    " lisp.append(i)\n",
    "for i in lisp:\n",
    "    pro=i*i*i\n",
    "    if pro%4==0 or pro%5==0:\n",
    "        cube.append(pro)\n",
    "print(cube)        \n",
    "        \n",
    "\n"
   ]
  },
  {
   "cell_type": "code",
   "execution_count": 64,
   "id": "338d2cdd-4c6d-4b53-9f69-6c74a256178d",
   "metadata": {},
   "outputs": [
    {
     "name": "stdout",
     "output_type": "stream",
     "text": [
      "12\n"
     ]
    }
   ],
   "source": [
    "#COUNT VOVELS\n",
    "string=\"I want to become a data scientist\"\n",
    "vovel=[\"a\",\"e\",\"i\",\"o\",\"u\",\"A\",\"E\",\"I\",\"O\",\"U\"]\n",
    "vv=[]\n",
    "count=0\n",
    "sum=0\n",
    "count_list=[]\n",
    "x=0\n",
    "character=(string.split())\n",
    "for i in character[0]:\n",
    "     if i in vovel:\n",
    "       count=count+1\n",
    "sum=sum+count\n",
    "count=0\n",
    "for i in character[1]:\n",
    "     if i in vovel:\n",
    "       count=count+1\n",
    "sum=sum+count\n",
    "count=0\n",
    "for i in character[2]:\n",
    "     if i in vovel:\n",
    "       count=count+1\n",
    "sum=sum+count\n",
    "count=0\n",
    "for i in character[3]:\n",
    "     if i in vovel:\n",
    "       count=count+1\n",
    "sum=sum+count\n",
    "count=0\n",
    "for i in character[4]:\n",
    "     if i in vovel:\n",
    "       count=count+1\n",
    "sum=sum+count \n",
    "count=0\n",
    "for i in character[5]:\n",
    "     if i in vovel:\n",
    "       count=count+1\n",
    "sum=sum+count \n",
    "count=0\n",
    "for i in character[6]:\n",
    "     if i in vovel:\n",
    "       count=count+1\n",
    "sum=sum+count \n",
    "print(sum)"
   ]
  },
  {
   "cell_type": "code",
   "execution_count": null,
   "id": "1e1262ee-3b79-4122-a647-ac5fd5a2fdf0",
   "metadata": {},
   "outputs": [],
   "source": []
  },
  {
   "cell_type": "code",
   "execution_count": null,
   "id": "286686e7-af01-4b0f-82af-2571dbb82bfe",
   "metadata": {},
   "outputs": [],
   "source": []
  }
 ],
 "metadata": {
  "kernelspec": {
   "display_name": "Python 3 (ipykernel)",
   "language": "python",
   "name": "python3"
  },
  "language_info": {
   "codemirror_mode": {
    "name": "ipython",
    "version": 3
   },
   "file_extension": ".py",
   "mimetype": "text/x-python",
   "name": "python",
   "nbconvert_exporter": "python",
   "pygments_lexer": "ipython3",
   "version": "3.10.8"
  }
 },
 "nbformat": 4,
 "nbformat_minor": 5
}
